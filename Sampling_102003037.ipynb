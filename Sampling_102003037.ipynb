{
 "cells": [
  {
   "cell_type": "markdown",
   "id": "8cff3521",
   "metadata": {},
   "source": [
    "## Himangi Sharma 102003037 "
   ]
  },
  {
   "cell_type": "code",
   "execution_count": 440,
   "id": "bad95a3b",
   "metadata": {},
   "outputs": [],
   "source": [
    "import pandas as pd\n",
    "import numpy as np\n",
    "import matplotlib.pyplot as plt\n",
    "import seaborn as sns\n",
    "import imblearn\n",
    "from sklearn import metrics\n",
    "from sklearn.model_selection import train_test_split\n",
    "from sklearn.metrics import classification_report"
   ]
  },
  {
   "cell_type": "code",
   "execution_count": 441,
   "id": "e4d34a3c",
   "metadata": {},
   "outputs": [],
   "source": [
    "df= pd.read_csv(\"Creditcard_data.csv\")"
   ]
  },
  {
   "cell_type": "code",
   "execution_count": 442,
   "id": "a9a394fa",
   "metadata": {},
   "outputs": [
    {
     "data": {
      "text/html": [
       "<div>\n",
       "<style scoped>\n",
       "    .dataframe tbody tr th:only-of-type {\n",
       "        vertical-align: middle;\n",
       "    }\n",
       "\n",
       "    .dataframe tbody tr th {\n",
       "        vertical-align: top;\n",
       "    }\n",
       "\n",
       "    .dataframe thead th {\n",
       "        text-align: right;\n",
       "    }\n",
       "</style>\n",
       "<table border=\"1\" class=\"dataframe\">\n",
       "  <thead>\n",
       "    <tr style=\"text-align: right;\">\n",
       "      <th></th>\n",
       "      <th>Time</th>\n",
       "      <th>V1</th>\n",
       "      <th>V2</th>\n",
       "      <th>V3</th>\n",
       "      <th>V4</th>\n",
       "      <th>V5</th>\n",
       "      <th>V6</th>\n",
       "      <th>V7</th>\n",
       "      <th>V8</th>\n",
       "      <th>V9</th>\n",
       "      <th>...</th>\n",
       "      <th>V21</th>\n",
       "      <th>V22</th>\n",
       "      <th>V23</th>\n",
       "      <th>V24</th>\n",
       "      <th>V25</th>\n",
       "      <th>V26</th>\n",
       "      <th>V27</th>\n",
       "      <th>V28</th>\n",
       "      <th>Amount</th>\n",
       "      <th>Class</th>\n",
       "    </tr>\n",
       "  </thead>\n",
       "  <tbody>\n",
       "    <tr>\n",
       "      <th>0</th>\n",
       "      <td>0</td>\n",
       "      <td>-1.359807</td>\n",
       "      <td>-0.072781</td>\n",
       "      <td>2.536347</td>\n",
       "      <td>1.378155</td>\n",
       "      <td>-0.338321</td>\n",
       "      <td>0.462388</td>\n",
       "      <td>0.239599</td>\n",
       "      <td>0.098698</td>\n",
       "      <td>0.363787</td>\n",
       "      <td>...</td>\n",
       "      <td>-0.018307</td>\n",
       "      <td>0.277838</td>\n",
       "      <td>-0.110474</td>\n",
       "      <td>0.066928</td>\n",
       "      <td>0.128539</td>\n",
       "      <td>-0.189115</td>\n",
       "      <td>0.133558</td>\n",
       "      <td>-0.021053</td>\n",
       "      <td>149.62</td>\n",
       "      <td>0</td>\n",
       "    </tr>\n",
       "    <tr>\n",
       "      <th>1</th>\n",
       "      <td>0</td>\n",
       "      <td>1.191857</td>\n",
       "      <td>0.266151</td>\n",
       "      <td>0.166480</td>\n",
       "      <td>0.448154</td>\n",
       "      <td>0.060018</td>\n",
       "      <td>-0.082361</td>\n",
       "      <td>-0.078803</td>\n",
       "      <td>0.085102</td>\n",
       "      <td>-0.255425</td>\n",
       "      <td>...</td>\n",
       "      <td>-0.225775</td>\n",
       "      <td>-0.638672</td>\n",
       "      <td>0.101288</td>\n",
       "      <td>-0.339846</td>\n",
       "      <td>0.167170</td>\n",
       "      <td>0.125895</td>\n",
       "      <td>-0.008983</td>\n",
       "      <td>0.014724</td>\n",
       "      <td>2.69</td>\n",
       "      <td>1</td>\n",
       "    </tr>\n",
       "    <tr>\n",
       "      <th>2</th>\n",
       "      <td>1</td>\n",
       "      <td>-1.358354</td>\n",
       "      <td>-1.340163</td>\n",
       "      <td>1.773209</td>\n",
       "      <td>0.379780</td>\n",
       "      <td>-0.503198</td>\n",
       "      <td>1.800499</td>\n",
       "      <td>0.791461</td>\n",
       "      <td>0.247676</td>\n",
       "      <td>-1.514654</td>\n",
       "      <td>...</td>\n",
       "      <td>0.247998</td>\n",
       "      <td>0.771679</td>\n",
       "      <td>0.909412</td>\n",
       "      <td>-0.689281</td>\n",
       "      <td>-0.327642</td>\n",
       "      <td>-0.139097</td>\n",
       "      <td>-0.055353</td>\n",
       "      <td>-0.059752</td>\n",
       "      <td>378.66</td>\n",
       "      <td>0</td>\n",
       "    </tr>\n",
       "    <tr>\n",
       "      <th>3</th>\n",
       "      <td>1</td>\n",
       "      <td>-0.966272</td>\n",
       "      <td>-0.185226</td>\n",
       "      <td>1.792993</td>\n",
       "      <td>-0.863291</td>\n",
       "      <td>-0.010309</td>\n",
       "      <td>1.247203</td>\n",
       "      <td>0.237609</td>\n",
       "      <td>0.377436</td>\n",
       "      <td>-1.387024</td>\n",
       "      <td>...</td>\n",
       "      <td>-0.108300</td>\n",
       "      <td>0.005274</td>\n",
       "      <td>-0.190321</td>\n",
       "      <td>-1.175575</td>\n",
       "      <td>0.647376</td>\n",
       "      <td>-0.221929</td>\n",
       "      <td>0.062723</td>\n",
       "      <td>0.061458</td>\n",
       "      <td>123.50</td>\n",
       "      <td>0</td>\n",
       "    </tr>\n",
       "    <tr>\n",
       "      <th>4</th>\n",
       "      <td>2</td>\n",
       "      <td>-1.158233</td>\n",
       "      <td>0.877737</td>\n",
       "      <td>1.548718</td>\n",
       "      <td>0.403034</td>\n",
       "      <td>-0.407193</td>\n",
       "      <td>0.095921</td>\n",
       "      <td>0.592941</td>\n",
       "      <td>-0.270533</td>\n",
       "      <td>0.817739</td>\n",
       "      <td>...</td>\n",
       "      <td>-0.009431</td>\n",
       "      <td>0.798278</td>\n",
       "      <td>-0.137458</td>\n",
       "      <td>0.141267</td>\n",
       "      <td>-0.206010</td>\n",
       "      <td>0.502292</td>\n",
       "      <td>0.219422</td>\n",
       "      <td>0.215153</td>\n",
       "      <td>69.99</td>\n",
       "      <td>0</td>\n",
       "    </tr>\n",
       "  </tbody>\n",
       "</table>\n",
       "<p>5 rows × 31 columns</p>\n",
       "</div>"
      ],
      "text/plain": [
       "   Time        V1        V2        V3        V4        V5        V6        V7  \\\n",
       "0     0 -1.359807 -0.072781  2.536347  1.378155 -0.338321  0.462388  0.239599   \n",
       "1     0  1.191857  0.266151  0.166480  0.448154  0.060018 -0.082361 -0.078803   \n",
       "2     1 -1.358354 -1.340163  1.773209  0.379780 -0.503198  1.800499  0.791461   \n",
       "3     1 -0.966272 -0.185226  1.792993 -0.863291 -0.010309  1.247203  0.237609   \n",
       "4     2 -1.158233  0.877737  1.548718  0.403034 -0.407193  0.095921  0.592941   \n",
       "\n",
       "         V8        V9  ...       V21       V22       V23       V24       V25  \\\n",
       "0  0.098698  0.363787  ... -0.018307  0.277838 -0.110474  0.066928  0.128539   \n",
       "1  0.085102 -0.255425  ... -0.225775 -0.638672  0.101288 -0.339846  0.167170   \n",
       "2  0.247676 -1.514654  ...  0.247998  0.771679  0.909412 -0.689281 -0.327642   \n",
       "3  0.377436 -1.387024  ... -0.108300  0.005274 -0.190321 -1.175575  0.647376   \n",
       "4 -0.270533  0.817739  ... -0.009431  0.798278 -0.137458  0.141267 -0.206010   \n",
       "\n",
       "        V26       V27       V28  Amount  Class  \n",
       "0 -0.189115  0.133558 -0.021053  149.62      0  \n",
       "1  0.125895 -0.008983  0.014724    2.69      1  \n",
       "2 -0.139097 -0.055353 -0.059752  378.66      0  \n",
       "3 -0.221929  0.062723  0.061458  123.50      0  \n",
       "4  0.502292  0.219422  0.215153   69.99      0  \n",
       "\n",
       "[5 rows x 31 columns]"
      ]
     },
     "execution_count": 442,
     "metadata": {},
     "output_type": "execute_result"
    }
   ],
   "source": [
    "df.head()"
   ]
  },
  {
   "cell_type": "code",
   "execution_count": 443,
   "id": "614d6bd9",
   "metadata": {},
   "outputs": [
    {
     "data": {
      "text/plain": [
       "(772, 31)"
      ]
     },
     "execution_count": 443,
     "metadata": {},
     "output_type": "execute_result"
    }
   ],
   "source": [
    "df.shape"
   ]
  },
  {
   "cell_type": "code",
   "execution_count": 444,
   "id": "b9312082",
   "metadata": {},
   "outputs": [
    {
     "data": {
      "text/html": [
       "<div>\n",
       "<style scoped>\n",
       "    .dataframe tbody tr th:only-of-type {\n",
       "        vertical-align: middle;\n",
       "    }\n",
       "\n",
       "    .dataframe tbody tr th {\n",
       "        vertical-align: top;\n",
       "    }\n",
       "\n",
       "    .dataframe thead th {\n",
       "        text-align: right;\n",
       "    }\n",
       "</style>\n",
       "<table border=\"1\" class=\"dataframe\">\n",
       "  <thead>\n",
       "    <tr style=\"text-align: right;\">\n",
       "      <th></th>\n",
       "      <th>Time</th>\n",
       "      <th>V1</th>\n",
       "      <th>V2</th>\n",
       "      <th>V3</th>\n",
       "      <th>V4</th>\n",
       "      <th>V5</th>\n",
       "      <th>V6</th>\n",
       "      <th>V7</th>\n",
       "      <th>V8</th>\n",
       "      <th>V9</th>\n",
       "      <th>...</th>\n",
       "      <th>V21</th>\n",
       "      <th>V22</th>\n",
       "      <th>V23</th>\n",
       "      <th>V24</th>\n",
       "      <th>V25</th>\n",
       "      <th>V26</th>\n",
       "      <th>V27</th>\n",
       "      <th>V28</th>\n",
       "      <th>Amount</th>\n",
       "      <th>Class</th>\n",
       "    </tr>\n",
       "  </thead>\n",
       "  <tbody>\n",
       "    <tr>\n",
       "      <th>count</th>\n",
       "      <td>772.000000</td>\n",
       "      <td>772.000000</td>\n",
       "      <td>772.000000</td>\n",
       "      <td>772.000000</td>\n",
       "      <td>772.000000</td>\n",
       "      <td>772.000000</td>\n",
       "      <td>772.000000</td>\n",
       "      <td>772.000000</td>\n",
       "      <td>772.000000</td>\n",
       "      <td>772.000000</td>\n",
       "      <td>...</td>\n",
       "      <td>772.000000</td>\n",
       "      <td>772.000000</td>\n",
       "      <td>772.000000</td>\n",
       "      <td>772.000000</td>\n",
       "      <td>772.000000</td>\n",
       "      <td>772.000000</td>\n",
       "      <td>772.000000</td>\n",
       "      <td>772.000000</td>\n",
       "      <td>772.000000</td>\n",
       "      <td>772.000000</td>\n",
       "    </tr>\n",
       "    <tr>\n",
       "      <th>mean</th>\n",
       "      <td>283.005181</td>\n",
       "      <td>-0.176963</td>\n",
       "      <td>0.217169</td>\n",
       "      <td>0.875172</td>\n",
       "      <td>0.285628</td>\n",
       "      <td>-0.005029</td>\n",
       "      <td>0.159081</td>\n",
       "      <td>0.123329</td>\n",
       "      <td>-0.057547</td>\n",
       "      <td>-0.030384</td>\n",
       "      <td>...</td>\n",
       "      <td>0.004888</td>\n",
       "      <td>-0.096995</td>\n",
       "      <td>-0.040344</td>\n",
       "      <td>-0.002501</td>\n",
       "      <td>0.114337</td>\n",
       "      <td>0.022782</td>\n",
       "      <td>0.023353</td>\n",
       "      <td>-0.017045</td>\n",
       "      <td>68.668290</td>\n",
       "      <td>0.011658</td>\n",
       "    </tr>\n",
       "    <tr>\n",
       "      <th>std</th>\n",
       "      <td>171.834196</td>\n",
       "      <td>1.294724</td>\n",
       "      <td>1.173401</td>\n",
       "      <td>1.031878</td>\n",
       "      <td>1.258758</td>\n",
       "      <td>1.098143</td>\n",
       "      <td>1.225682</td>\n",
       "      <td>0.852075</td>\n",
       "      <td>0.830144</td>\n",
       "      <td>0.878183</td>\n",
       "      <td>...</td>\n",
       "      <td>0.609335</td>\n",
       "      <td>0.607228</td>\n",
       "      <td>0.358724</td>\n",
       "      <td>0.621507</td>\n",
       "      <td>0.429667</td>\n",
       "      <td>0.484227</td>\n",
       "      <td>0.300934</td>\n",
       "      <td>0.278332</td>\n",
       "      <td>197.838269</td>\n",
       "      <td>0.107411</td>\n",
       "    </tr>\n",
       "    <tr>\n",
       "      <th>min</th>\n",
       "      <td>0.000000</td>\n",
       "      <td>-6.093248</td>\n",
       "      <td>-12.114213</td>\n",
       "      <td>-5.694973</td>\n",
       "      <td>-4.657545</td>\n",
       "      <td>-6.631951</td>\n",
       "      <td>-3.498447</td>\n",
       "      <td>-4.925568</td>\n",
       "      <td>-7.494658</td>\n",
       "      <td>-2.770089</td>\n",
       "      <td>...</td>\n",
       "      <td>-4.134608</td>\n",
       "      <td>-2.776923</td>\n",
       "      <td>-3.553381</td>\n",
       "      <td>-1.867208</td>\n",
       "      <td>-1.389079</td>\n",
       "      <td>-1.243924</td>\n",
       "      <td>-2.377933</td>\n",
       "      <td>-2.735623</td>\n",
       "      <td>0.000000</td>\n",
       "      <td>0.000000</td>\n",
       "    </tr>\n",
       "    <tr>\n",
       "      <th>25%</th>\n",
       "      <td>126.500000</td>\n",
       "      <td>-0.896416</td>\n",
       "      <td>-0.174684</td>\n",
       "      <td>0.308677</td>\n",
       "      <td>-0.460058</td>\n",
       "      <td>-0.534567</td>\n",
       "      <td>-0.630717</td>\n",
       "      <td>-0.296289</td>\n",
       "      <td>-0.167880</td>\n",
       "      <td>-0.517068</td>\n",
       "      <td>...</td>\n",
       "      <td>-0.213746</td>\n",
       "      <td>-0.525289</td>\n",
       "      <td>-0.176915</td>\n",
       "      <td>-0.379766</td>\n",
       "      <td>-0.166227</td>\n",
       "      <td>-0.313631</td>\n",
       "      <td>-0.047868</td>\n",
       "      <td>-0.033083</td>\n",
       "      <td>5.987500</td>\n",
       "      <td>0.000000</td>\n",
       "    </tr>\n",
       "    <tr>\n",
       "      <th>50%</th>\n",
       "      <td>282.000000</td>\n",
       "      <td>-0.382618</td>\n",
       "      <td>0.285843</td>\n",
       "      <td>0.905435</td>\n",
       "      <td>0.395919</td>\n",
       "      <td>-0.116612</td>\n",
       "      <td>-0.109581</td>\n",
       "      <td>0.116329</td>\n",
       "      <td>0.034755</td>\n",
       "      <td>-0.082270</td>\n",
       "      <td>...</td>\n",
       "      <td>-0.075802</td>\n",
       "      <td>-0.076551</td>\n",
       "      <td>-0.048353</td>\n",
       "      <td>0.091886</td>\n",
       "      <td>0.143723</td>\n",
       "      <td>-0.026414</td>\n",
       "      <td>0.023199</td>\n",
       "      <td>0.021034</td>\n",
       "      <td>16.665000</td>\n",
       "      <td>0.000000</td>\n",
       "    </tr>\n",
       "    <tr>\n",
       "      <th>75%</th>\n",
       "      <td>432.000000</td>\n",
       "      <td>1.110739</td>\n",
       "      <td>0.885745</td>\n",
       "      <td>1.532969</td>\n",
       "      <td>1.117559</td>\n",
       "      <td>0.452818</td>\n",
       "      <td>0.482972</td>\n",
       "      <td>0.575390</td>\n",
       "      <td>0.252395</td>\n",
       "      <td>0.412261</td>\n",
       "      <td>...</td>\n",
       "      <td>0.095149</td>\n",
       "      <td>0.307438</td>\n",
       "      <td>0.070085</td>\n",
       "      <td>0.426339</td>\n",
       "      <td>0.425798</td>\n",
       "      <td>0.260408</td>\n",
       "      <td>0.112199</td>\n",
       "      <td>0.087023</td>\n",
       "      <td>55.527500</td>\n",
       "      <td>0.000000</td>\n",
       "    </tr>\n",
       "    <tr>\n",
       "      <th>max</th>\n",
       "      <td>581.000000</td>\n",
       "      <td>1.586093</td>\n",
       "      <td>5.267376</td>\n",
       "      <td>3.772857</td>\n",
       "      <td>4.075817</td>\n",
       "      <td>7.672544</td>\n",
       "      <td>5.122103</td>\n",
       "      <td>4.808426</td>\n",
       "      <td>2.134599</td>\n",
       "      <td>5.459274</td>\n",
       "      <td>...</td>\n",
       "      <td>5.273420</td>\n",
       "      <td>1.574750</td>\n",
       "      <td>3.150413</td>\n",
       "      <td>1.215279</td>\n",
       "      <td>1.136720</td>\n",
       "      <td>3.087444</td>\n",
       "      <td>2.490503</td>\n",
       "      <td>1.575380</td>\n",
       "      <td>3828.040000</td>\n",
       "      <td>1.000000</td>\n",
       "    </tr>\n",
       "  </tbody>\n",
       "</table>\n",
       "<p>8 rows × 31 columns</p>\n",
       "</div>"
      ],
      "text/plain": [
       "             Time          V1          V2          V3          V4          V5  \\\n",
       "count  772.000000  772.000000  772.000000  772.000000  772.000000  772.000000   \n",
       "mean   283.005181   -0.176963    0.217169    0.875172    0.285628   -0.005029   \n",
       "std    171.834196    1.294724    1.173401    1.031878    1.258758    1.098143   \n",
       "min      0.000000   -6.093248  -12.114213   -5.694973   -4.657545   -6.631951   \n",
       "25%    126.500000   -0.896416   -0.174684    0.308677   -0.460058   -0.534567   \n",
       "50%    282.000000   -0.382618    0.285843    0.905435    0.395919   -0.116612   \n",
       "75%    432.000000    1.110739    0.885745    1.532969    1.117559    0.452818   \n",
       "max    581.000000    1.586093    5.267376    3.772857    4.075817    7.672544   \n",
       "\n",
       "               V6          V7          V8          V9  ...         V21  \\\n",
       "count  772.000000  772.000000  772.000000  772.000000  ...  772.000000   \n",
       "mean     0.159081    0.123329   -0.057547   -0.030384  ...    0.004888   \n",
       "std      1.225682    0.852075    0.830144    0.878183  ...    0.609335   \n",
       "min     -3.498447   -4.925568   -7.494658   -2.770089  ...   -4.134608   \n",
       "25%     -0.630717   -0.296289   -0.167880   -0.517068  ...   -0.213746   \n",
       "50%     -0.109581    0.116329    0.034755   -0.082270  ...   -0.075802   \n",
       "75%      0.482972    0.575390    0.252395    0.412261  ...    0.095149   \n",
       "max      5.122103    4.808426    2.134599    5.459274  ...    5.273420   \n",
       "\n",
       "              V22         V23         V24         V25         V26         V27  \\\n",
       "count  772.000000  772.000000  772.000000  772.000000  772.000000  772.000000   \n",
       "mean    -0.096995   -0.040344   -0.002501    0.114337    0.022782    0.023353   \n",
       "std      0.607228    0.358724    0.621507    0.429667    0.484227    0.300934   \n",
       "min     -2.776923   -3.553381   -1.867208   -1.389079   -1.243924   -2.377933   \n",
       "25%     -0.525289   -0.176915   -0.379766   -0.166227   -0.313631   -0.047868   \n",
       "50%     -0.076551   -0.048353    0.091886    0.143723   -0.026414    0.023199   \n",
       "75%      0.307438    0.070085    0.426339    0.425798    0.260408    0.112199   \n",
       "max      1.574750    3.150413    1.215279    1.136720    3.087444    2.490503   \n",
       "\n",
       "              V28       Amount       Class  \n",
       "count  772.000000   772.000000  772.000000  \n",
       "mean    -0.017045    68.668290    0.011658  \n",
       "std      0.278332   197.838269    0.107411  \n",
       "min     -2.735623     0.000000    0.000000  \n",
       "25%     -0.033083     5.987500    0.000000  \n",
       "50%      0.021034    16.665000    0.000000  \n",
       "75%      0.087023    55.527500    0.000000  \n",
       "max      1.575380  3828.040000    1.000000  \n",
       "\n",
       "[8 rows x 31 columns]"
      ]
     },
     "execution_count": 444,
     "metadata": {},
     "output_type": "execute_result"
    }
   ],
   "source": [
    "df.describe()"
   ]
  },
  {
   "cell_type": "code",
   "execution_count": 445,
   "id": "6efef4f3",
   "metadata": {},
   "outputs": [
    {
     "name": "stdout",
     "output_type": "stream",
     "text": [
      "Number of classes in dataset: 2\n",
      "\n",
      "Count of the class 0: 763\n",
      "Count of the class 1: 9\n",
      "\n",
      "Percentage of count of the classes:\n",
      " 0    98.834197\n",
      "1     1.165803\n",
      "Name: Class, dtype: float64\n"
     ]
    }
   ],
   "source": [
    "classfreq=df['Class'].value_counts()\n",
    "count_0, count_1 = df['Class'].value_counts()\n",
    "print(\"Number of classes in dataset:\", len(classfreq))\n",
    "print(\"\\nCount of the class 0:\", count_0)\n",
    "print(\"Count of the class 1:\", count_1)\n",
    "classfreqpercentage=df['Class'].value_counts(normalize=True) * 100\n",
    "print(\"\\nPercentage of count of the classes:\\n\", classfreqpercentage)"
   ]
  },
  {
   "cell_type": "code",
   "execution_count": 448,
   "id": "4f3dde68",
   "metadata": {},
   "outputs": [
    {
     "data": {
      "text/plain": [
       "Text(0.5, 1.0, 'Distributions of classes: 0-No Fraud , 1-Fraud')"
      ]
     },
     "execution_count": 448,
     "metadata": {},
     "output_type": "execute_result"
    },
    {
     "data": {
      "image/png": "[encoded data removed]",
      "text/plain": [
       "<Figure size 432x288 with 1 Axes>"
      ]
     },
     "metadata": {
      "needs_background": "light"
     },
     "output_type": "display_data"
    }
   ],
   "source": [
    "sns.countplot('Class', data=df)\n",
    "plt.title('Distributions of classes: 0-No Fraud , 1-Fraud')"
   ]
  },
  {
   "cell_type": "markdown",
   "id": "db3020c9",
   "metadata": {},
   "source": [
    "## Balancing the imbalanced dataset"
   ]
  },
  {
   "cell_type": "code",
   "execution_count": 449,
   "id": "62248710",
   "metadata": {},
   "outputs": [
    {
     "name": "stdout",
     "output_type": "stream",
     "text": [
      "Class 0: No fraud =  (763, 31)\n",
      "Class 1: Fraud =  (9, 31)\n"
     ]
    }
   ],
   "source": [
    "class0 = df[df['Class'] == 0]\n",
    "class1 = df[df['Class'] == 1]\n",
    "print(\"Class 0: No fraud = \", class0.shape)\n",
    "print(\"Class 1: Fraud = \", class1.shape)"
   ]
  },
  {
   "cell_type": "markdown",
   "id": "4524851b",
   "metadata": {},
   "source": [
    "### Oversampling the minority class\n",
    "which is the class 1 in this case"
   ]
  },
  {
   "cell_type": "code",
   "execution_count": 450,
   "id": "0024e515",
   "metadata": {},
   "outputs": [],
   "source": [
    "over_class1 = class1.sample(count_0, replace=True)"
   ]
  },
  {
   "cell_type": "code",
   "execution_count": 451,
   "id": "f95ec136",
   "metadata": {},
   "outputs": [
    {
     "name": "stdout",
     "output_type": "stream",
     "text": [
      "Class 0: No fraud =  (763, 31)\n",
      "Class 1 after oversampling: Fraud =  (763, 31)\n"
     ]
    }
   ],
   "source": [
    "print(\"Class 0: No fraud = \", class0.shape)\n",
    "print(\"Class 1 after oversampling: Fraud = \", over_class1.shape)"
   ]
  },
  {
   "cell_type": "code",
   "execution_count": 452,
   "id": "add6e053",
   "metadata": {},
   "outputs": [],
   "source": [
    "df2 = pd.concat([over_class1,class0],ignore_index = True)"
   ]
  },
  {
   "cell_type": "code",
   "execution_count": 453,
   "id": "b5591de9",
   "metadata": {},
   "outputs": [
    {
     "name": "stdout",
     "output_type": "stream",
     "text": [
      "Dimensions after oversampling of minority class:  (1526, 31)\n"
     ]
    },
    {
     "data": {
      "text/plain": [
       "1    763\n",
       "0    763\n",
       "Name: Class, dtype: int64"
      ]
     },
     "execution_count": 453,
     "metadata": {},
     "output_type": "execute_result"
    }
   ],
   "source": [
    "print(\"Dimensions after oversampling of minority class: \",df2.shape)\n",
    "df2['Class'].value_counts()"
   ]
  },
  {
   "cell_type": "markdown",
   "id": "02309121",
   "metadata": {},
   "source": [
    "### Plotting the new distribution of classes:"
   ]
  },
  {
   "cell_type": "code",
   "execution_count": 455,
   "id": "389a42d4",
   "metadata": {},
   "outputs": [
    {
     "data": {
      "text/plain": [
       "Text(0.5, 1.0, 'Distributions of classes after oversampling: 0-No Fraud , 1-Fraud')"
      ]
     },
     "execution_count": 455,
     "metadata": {},
     "output_type": "execute_result"
    },
    {
     "data": {
      "image/png": "[encoded data removed]",
      "text/plain": [
       "<Figure size 432x288 with 1 Axes>"
      ]
     },
     "metadata": {
      "needs_background": "light"
     },
     "output_type": "display_data"
    }
   ],
   "source": [
    "sns.countplot('Class', data=df2)\n",
    "plt.title('Distributions of classes after oversampling: 0-No Fraud , 1-Fraud')"
   ]
  },
  {
   "cell_type": "markdown",
   "id": "80096971",
   "metadata": {},
   "source": [
    "## Sampling and application of ML Models"
   ]
  },
  {
   "cell_type": "code",
   "execution_count": 508,
   "id": "6b0fe502",
   "metadata": {},
   "outputs": [],
   "source": [
    "def ml_models() :\n",
    "    ml_model = {}\n",
    "    ml_model['GaussianNB']= GaussianNB()\n",
    "    ml_model['DecisionTreeClassifier']= DecisionTreeClassifier()\n",
    "    ml_model['LogisticRegression'] = LogisticRegression(max_iter=2000)\n",
    "    ml_model['SVM']= SVC()\n",
    "    ml_model['KNN'] = KNeighborsClassifier()\n",
    "    return ml_model\n",
    "\n",
    "def model_accuracy_score(x_train,y_train,x_test,y_test) :\n",
    "    m = ml_models()\n",
    "    \n",
    "    for name,model in m.items() :\n",
    "        model.fit(x_train,y_train)\n",
    "        y_pred = model.predict(x_test)\n",
    "        print('The model used: ',name)\n",
    "        print('Accuracy: ',sklearn.metrics.accuracy_score(y_test,y_pred),\"\\n\")\n",
    "        \n"
   ]
  },
  {
   "cell_type": "markdown",
   "id": "343d5f53",
   "metadata": {},
   "source": [
    "### 1. Simple Random Sampling without replacement\n",
    "n = (Z^2 x P x (1-P))/(E^2)  <br>\n",
    "Z = 1.96 <br>\n",
    "P = 763/1519 = 0.502 <br>\n",
    "E = 0.05 <br>\n",
    "n = (1.96^2 x 0.5 x (1-0.5))/(0.05^2) = 384.16 = 384 <br>"
   ]
  },
  {
   "cell_type": "code",
   "execution_count": 509,
   "id": "228728e1",
   "metadata": {},
   "outputs": [
    {
     "name": "stdout",
     "output_type": "stream",
     "text": [
      "Shape:  (384, 31)\n",
      "Count: \n",
      " 0    207\n",
      "1    177\n",
      "Name: Class, dtype: int64\n"
     ]
    }
   ],
   "source": [
    "def samplesize(z,p,e):\n",
    "    return (((z**2)*p*(1-p))/((e)**2))\n",
    "n1= int(samplesize(1.96,0.5,0.05))\n",
    "\n",
    "sample1 = df2.sample(n=n1, random_state=42,replace= False)\n",
    "print(\"Shape: \",sample1.shape)\n",
    "print(\"Count: \\n\",sample1.Class.value_counts())"
   ]
  },
  {
   "cell_type": "code",
   "execution_count": 510,
   "id": "0b34a410",
   "metadata": {},
   "outputs": [],
   "source": [
    "x_train1, x_test1, y_train1, y_test1 = train_test_split(sample1.iloc[:,:30], sample1.iloc[:,30], test_size=0.33, random_state=42)"
   ]
  },
  {
   "cell_type": "code",
   "execution_count": 511,
   "id": "89af13bc",
   "metadata": {},
   "outputs": [
    {
     "name": "stdout",
     "output_type": "stream",
     "text": [
      "The model used:  GaussianNB\n",
      "Accuracy:  0.6456692913385826 \n",
      "\n",
      "The model used:  DecisionTreeClassifier\n",
      "Accuracy:  0.968503937007874 \n",
      "\n",
      "The model used:  LogisticRegression\n",
      "Accuracy:  0.9291338582677166 \n",
      "\n",
      "The model used:  SVM\n",
      "Accuracy:  0.6456692913385826 \n",
      "\n",
      "The model used:  KNN\n",
      "Accuracy:  0.9763779527559056 \n",
      "\n"
     ]
    }
   ],
   "source": [
    "model_accuracy_score(x_train1,y_train1,x_test1,y_test1)"
   ]
  },
  {
   "cell_type": "markdown",
   "id": "d68c59b3",
   "metadata": {},
   "source": [
    "#### Highest accuracy is 0.97 by using KNN classifier for Simple Random Sampling without replacement"
   ]
  },
  {
   "cell_type": "markdown",
   "id": "963ebd81",
   "metadata": {},
   "source": [
    "### 2. Simple Random Sampling without replacement"
   ]
  },
  {
   "cell_type": "code",
   "execution_count": 512,
   "id": "76b0decc",
   "metadata": {},
   "outputs": [
    {
     "name": "stdout",
     "output_type": "stream",
     "text": [
      "Shape:  (384, 31)\n",
      "Count: \n",
      " 1    203\n",
      "0    181\n",
      "Name: Class, dtype: int64\n"
     ]
    }
   ],
   "source": [
    "sample2 = df2.sample(n=n1, replace= True)\n",
    "print(\"Shape: \",sample2.shape)\n",
    "print(\"Count: \\n\",sample2.Class.value_counts())"
   ]
  },
  {
   "cell_type": "code",
   "execution_count": 513,
   "id": "942b70ac",
   "metadata": {},
   "outputs": [],
   "source": [
    "x_train2, x_test2, y_train2, y_test2 = train_test_split(sample2.iloc[:,:30], sample2.iloc[:,30], test_size=0.33, random_state=42)"
   ]
  },
  {
   "cell_type": "code",
   "execution_count": 514,
   "id": "35d798b4",
   "metadata": {},
   "outputs": [
    {
     "name": "stdout",
     "output_type": "stream",
     "text": [
      "The model used:  GaussianNB\n",
      "Accuracy:  0.8267716535433071 \n",
      "\n",
      "The model used:  DecisionTreeClassifier\n",
      "Accuracy:  0.984251968503937 \n",
      "\n",
      "The model used:  LogisticRegression\n",
      "Accuracy:  0.937007874015748 \n",
      "\n",
      "The model used:  SVM\n",
      "Accuracy:  0.5905511811023622 \n",
      "\n",
      "The model used:  KNN\n",
      "Accuracy:  0.9291338582677166 \n",
      "\n"
     ]
    }
   ],
   "source": [
    "model_accuracy_score(x_train2,y_train2,x_test2,y_test2)"
   ]
  },
  {
   "cell_type": "markdown",
   "id": "144957e5",
   "metadata": {},
   "source": [
    "#### Highest accuracy is 0.98 by using Decision Tree Classifier for Simple Random Sampling with replacement"
   ]
  },
  {
   "cell_type": "markdown",
   "id": "5d5f1b1a",
   "metadata": {},
   "source": [
    "### 3. Systematic Sampling"
   ]
  },
  {
   "cell_type": "code",
   "execution_count": 515,
   "id": "1beb12b3",
   "metadata": {},
   "outputs": [
    {
     "name": "stdout",
     "output_type": "stream",
     "text": [
      "Shape:  (384, 31)\n",
      "Count: \n",
      " 1    198\n",
      "0    186\n",
      "Name: Class, dtype: int64\n"
     ]
    }
   ],
   "source": [
    "k = 3   #1519/384\n",
    "sys = df2.iloc[::k]\n",
    "sample3 = sys.sample(n=n1)\n",
    "print(\"Shape: \",sample3.shape)\n",
    "print(\"Count: \\n\",sample3.Class.value_counts())"
   ]
  },
  {
   "cell_type": "code",
   "execution_count": 516,
   "id": "f262b404",
   "metadata": {},
   "outputs": [],
   "source": [
    "x_train3, x_test3, y_train3, y_test3 = train_test_split(sample3.iloc[:,:30], sample3.iloc[:,30], test_size=0.33, random_state=42)"
   ]
  },
  {
   "cell_type": "code",
   "execution_count": 517,
   "id": "ecf4bbf0",
   "metadata": {},
   "outputs": [
    {
     "name": "stdout",
     "output_type": "stream",
     "text": [
      "The model used:  GaussianNB\n",
      "Accuracy:  0.7637795275590551 \n",
      "\n",
      "The model used:  DecisionTreeClassifier\n",
      "Accuracy:  0.9763779527559056 \n",
      "\n",
      "The model used:  LogisticRegression\n",
      "Accuracy:  0.9212598425196851 \n",
      "\n",
      "The model used:  SVM\n",
      "Accuracy:  0.6141732283464567 \n",
      "\n",
      "The model used:  KNN\n",
      "Accuracy:  0.9291338582677166 \n",
      "\n"
     ]
    }
   ],
   "source": [
    "model_accuracy_score(x_train3,y_train3,x_test3,y_test3)"
   ]
  },
  {
   "cell_type": "markdown",
   "id": "ed567a8a",
   "metadata": {},
   "source": [
    "#### Highest accuracy is 0.97 by using Decision Tree Classifier for Systematic Sampling"
   ]
  },
  {
   "cell_type": "markdown",
   "id": "6e90027e",
   "metadata": {},
   "source": [
    "### 4. Stratified Sampling"
   ]
  },
  {
   "cell_type": "code",
   "execution_count": 518,
   "id": "a8e3c089",
   "metadata": {},
   "outputs": [
    {
     "data": {
      "text/plain": [
       "192"
      ]
     },
     "execution_count": 518,
     "metadata": {},
     "output_type": "execute_result"
    }
   ],
   "source": [
    "n2 = int((1.96*1.96 * 0.5*0.5)/((0.1/2)**2)/2)\n",
    "n2"
   ]
  },
  {
   "cell_type": "code",
   "execution_count": 519,
   "id": "e3a59c7b",
   "metadata": {},
   "outputs": [
    {
     "name": "stdout",
     "output_type": "stream",
     "text": [
      "Shape:  (384, 31)\n",
      "Count: \n",
      " 0    192\n",
      "1    192\n",
      "Name: Class, dtype: int64\n"
     ]
    }
   ],
   "source": [
    "sample4=df2.groupby('Class', group_keys=False).apply(lambda x: x.sample(n2))\n",
    "print(\"Shape: \",sample4.shape)\n",
    "print(\"Count: \\n\",sample4.Class.value_counts())"
   ]
  },
  {
   "cell_type": "code",
   "execution_count": 520,
   "id": "96b360c2",
   "metadata": {},
   "outputs": [],
   "source": [
    "x_train4, x_test4, y_train4, y_test4 = train_test_split(sample4.iloc[:,:30], sample4.iloc[:,30], test_size=0.33, random_state=42)"
   ]
  },
  {
   "cell_type": "code",
   "execution_count": 521,
   "id": "5d65b588",
   "metadata": {},
   "outputs": [
    {
     "name": "stdout",
     "output_type": "stream",
     "text": [
      "The model used:  GaussianNB\n",
      "Accuracy:  0.7244094488188977 \n",
      "\n",
      "The model used:  DecisionTreeClassifier\n",
      "Accuracy:  0.9291338582677166 \n",
      "\n",
      "The model used:  LogisticRegression\n",
      "Accuracy:  0.952755905511811 \n",
      "\n",
      "The model used:  SVM\n",
      "Accuracy:  0.6850393700787402 \n",
      "\n",
      "The model used:  KNN\n",
      "Accuracy:  0.9133858267716536 \n",
      "\n"
     ]
    }
   ],
   "source": [
    "model_accuracy_score(x_train4,y_train4,x_test4,y_test4)"
   ]
  },
  {
   "cell_type": "markdown",
   "id": "5c290661",
   "metadata": {},
   "source": [
    "#### Highest accuracy is 0.95 by using Logistic Regression for Stratified Sampling"
   ]
  },
  {
   "cell_type": "markdown",
   "id": "07ca1935",
   "metadata": {},
   "source": [
    "### 5. Cluster Sampling\n",
    "n = (Z^2 x P x (1-P))/((E/C)^2)"
   ]
  },
  {
   "cell_type": "code",
   "execution_count": 522,
   "id": "2872fbb0",
   "metadata": {},
   "outputs": [],
   "source": [
    "n5=int((1.96*1.96 * 0.5*0.5)/((0.1/2)**2)/2)"
   ]
  },
  {
   "cell_type": "code",
   "execution_count": 523,
   "id": "cc86b9a5",
   "metadata": {},
   "outputs": [
    {
     "name": "stdout",
     "output_type": "stream",
     "text": [
      "Shape:  (384, 31)\n",
      "Count: \n",
      " 1    201\n",
      "0    183\n",
      "Name: Class, dtype: int64\n"
     ]
    }
   ],
   "source": [
    "def Cluster_sample(df, cluster_size, cluster_count):\n",
    "    N = len(df)\n",
    "    K = int(N/cluster_size)\n",
    "    data = None\n",
    "    for k in range(K):\n",
    "        sample_k = df.sample(cluster_size)\n",
    "        sample_k[\"cluster\"] = np.repeat(k,len(sample_k))\n",
    "        df = df.drop(index = sample_k.index)\n",
    "        data = pd.concat([data,sample_k],axis = 0)\n",
    "\n",
    "    clusters_chosen = np.random.randint(0,K,size = cluster_count)\n",
    "    samples = data[data.cluster.isin(clusters_chosen)]\n",
    "    return(samples)\n",
    "\n",
    "sample5 = Cluster_sample(df2, n5, 2) \n",
    "sample5 = sample5.iloc[:,0:31]\n",
    "print(\"Shape: \",sample5.shape)\n",
    "print(\"Count: \\n\",sample5.Class.value_counts())"
   ]
  },
  {
   "cell_type": "code",
   "execution_count": 524,
   "id": "1ade3b33",
   "metadata": {},
   "outputs": [],
   "source": [
    "x_train5, x_test5, y_train5, y_test5 = train_test_split(sample5.iloc[:,:30], sample5.iloc[:,30], test_size=0.33, random_state=42)"
   ]
  },
  {
   "cell_type": "code",
   "execution_count": 525,
   "id": "2272ae7c",
   "metadata": {},
   "outputs": [
    {
     "name": "stdout",
     "output_type": "stream",
     "text": [
      "The model used:  GaussianNB\n",
      "Accuracy:  0.6692913385826772 \n",
      "\n",
      "The model used:  DecisionTreeClassifier\n",
      "Accuracy:  0.9291338582677166 \n",
      "\n",
      "The model used:  LogisticRegression\n",
      "Accuracy:  0.8818897637795275 \n",
      "\n",
      "The model used:  SVM\n",
      "Accuracy:  0.7244094488188977 \n",
      "\n",
      "The model used:  KNN\n",
      "Accuracy:  0.937007874015748 \n",
      "\n"
     ]
    }
   ],
   "source": [
    "model_accuracy_score(x_train5,y_train5,x_test5,y_test5)"
   ]
  },
  {
   "cell_type": "markdown",
   "id": "14687fe9",
   "metadata": {},
   "source": [
    "#### Highest accuracy is 0.93 by using KNN for Cluster Sampling"
   ]
  },
  {
   "cell_type": "code",
   "execution_count": null,
   "id": "7206649d",
   "metadata": {},
   "outputs": [],
   "source": []
  }
 ],
 "metadata": {
  "kernelspec": {
   "display_name": "Python 3 (ipykernel)",
   "language": "python",
   "name": "python3"
  },
  "language_info": {
   "codemirror_mode": {
    "name": "ipython",
    "version": 3
   },
   "file_extension": ".py",
   "mimetype": "text/x-python",
   "name": "python",
   "nbconvert_exporter": "python",
   "pygments_lexer": "ipython3",
   "version": "3.9.12"
  }
 },
 "nbformat": 4,
 "nbformat_minor": 5
}
